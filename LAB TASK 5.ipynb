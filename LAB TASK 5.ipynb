{
 "cells": [
  {
   "cell_type": "code",
   "execution_count": 9,
   "id": "0c8f2038",
   "metadata": {},
   "outputs": [
    {
     "name": "stdout",
     "output_type": "stream",
     "text": [
      "enter value of pounds6\n",
      "amount of pound you enter is: 6\n",
      "gram is equal to: 2.724\n",
      "kilograms is equal to: 2721.55422\n"
     ]
    }
   ],
   "source": [
    "def conversion():\n",
    "    pounds=int(input(\"enter value of pounds\"))\n",
    "    kilogram=pounds*453.59237\n",
    "    gram=pounds*0.454\n",
    "    print(\"amount of pound you enter is:\",pounds)\n",
    "    print(\"gram is equal to:\",gram)\n",
    "    print(\"kilograms is equal to:\",kilogram)\n",
    "conversion()\n"
   ]
  },
  {
   "cell_type": "code",
   "execution_count": 10,
   "id": "ac0a1165",
   "metadata": {},
   "outputs": [
    {
     "data": {
      "text/plain": [
       "(5, -1, 6, 0)"
      ]
     },
     "execution_count": 10,
     "metadata": {},
     "output_type": "execute_result"
    }
   ],
   "source": [
    "def operation(a=1,b=1):\n",
    "    add=a+b\n",
    "    subtract=a-b\n",
    "    multi=a*b\n",
    "    divide=a//b\n",
    "    return add,subtract,multi,divide\n",
    "    print(add,subtract,multi,divide)\n",
    "operation(2,3)"
   ]
  },
  {
   "cell_type": "code",
   "execution_count": null,
   "id": "80122359",
   "metadata": {},
   "outputs": [],
   "source": [
    "def time():\n",
    "    seconds=int(input(&quot;enter time in seconds&quot;))\n",
    "    hours=seconds//3600\n",
    "    minutes=(seconds%3600)//60\n",
    "    seconds=seconds%60\n",
    "    print('hours',hours)\n",
    "    print('minutes',minutes)\n",
    "    print('seconds',seconds)\n",
    "time()"
   ]
  }
 ],
 "metadata": {
  "kernelspec": {
   "display_name": "Python 3",
   "language": "python",
   "name": "python3"
  },
  "language_info": {
   "codemirror_mode": {
    "name": "ipython",
    "version": 3
   },
   "file_extension": ".py",
   "mimetype": "text/x-python",
   "name": "python",
   "nbconvert_exporter": "python",
   "pygments_lexer": "ipython3",
   "version": "3.11.1"
  }
 },
 "nbformat": 4,
 "nbformat_minor": 5
}
