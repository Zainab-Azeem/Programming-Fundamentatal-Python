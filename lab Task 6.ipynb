{
 "cells": [
  {
   "cell_type": "code",
   "execution_count": null,
   "metadata": {},
   "outputs": [],
   "source": [
    "alphabet=str(input(\"enter alphabet:\"))\n",
    "if alphabet=='A'or alphabet=='a' or alphabet=='E' or alphabet=='e' or alphabet=='I' or alphabet=='i' or alphabet=='o' or alphabet=='O' or alphabet=='U' or alphabet=='u':\n",
    "    print(\"alphabet enter is vowel\")\n",
    "\n",
    "else:\n",
    "    print(\"alphabet is consonant\")\n"
   ]
  },
  {
   "cell_type": "code",
   "execution_count": null,
   "metadata": {},
   "outputs": [],
   "source": [
    "x=int(input(\"enter x\"))\n",
    "y=int(input(\"enter y\"))\n",
    "z=int(input(\"enter z\"))\n",
    "if x==y and y==z:\n",
    "    print(\"triangle is equilateral\")\n",
    "elif x==y or y==z or x==z:\n",
    "    print(\"triangle is isoceles\")\n",
    "else:\n",
    "    print(\"triangle is scalene triangle\")\n"
   ]
  },
  {
   "cell_type": "code",
   "execution_count": null,
   "metadata": {},
   "outputs": [],
   "source": [
    "number1=int(input(\"enter number1:\"))\n",
    "number2=int(input(\"enter number2:\"))\n",
    "print(\"for addition, press 1\")\n",
    "print(\"for subtraction, press 2\")\n",
    "print(\"for multiplication, press 3\")\n",
    "print(\"for division, press 4\")\n",
    "operation=int(input('enter operation:'))\n",
    "if operation==1:\n",
    "    print(\"addition\",number1+number2)\n",
    "elif operation==2:\n",
    "        print(\"subtraction\",number1-number2)\n",
    "elif operation==3:\n",
    "    print(\"multiplication\",number1*number2)\n",
    "elif operation==4:\n",
    "    print(\"division\",number1//number2)\n"
   ]
  },
  {
   "cell_type": "code",
   "execution_count": null,
   "metadata": {},
   "outputs": [],
   "source": [
    "def largest_odd():\n",
    "    x=int(input(\"enter value of x:\"))\n",
    "    y=int(input(\"enter value of y:\"))\n",
    "                \n",
    "    if x>y:\n",
    "        if x%2!=0:\n",
    "             print(x,\"x is greatest odd number between them\")\n",
    "    elif  y%2!=0 :\n",
    "         if y>x:\n",
    "            if y%2!=0:\n",
    "                print(y,\"y is greatest odd number between them\")\n",
    "    else:\n",
    "        print(\"none of them is odd\")\n"
   ]
  }
 ],
 "metadata": {
  "language_info": {
   "name": "python"
  }
 },
 "nbformat": 4,
 "nbformat_minor": 2
}
